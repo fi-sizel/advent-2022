{
 "cells": [
  {
   "cell_type": "code",
   "execution_count": 33,
   "metadata": {},
   "outputs": [
    {
     "data": {
      "text/plain": [
       "13446.0"
      ]
     },
     "execution_count": 33,
     "metadata": {},
     "output_type": "execute_result"
    }
   ],
   "source": [
    "import pandas as pd\n",
    "recommended = pd.read_csv(\"day_two_input.txt\", header=None, sep =' ', skip_blank_lines=False)\n",
    "\n",
    "##to test \n",
    "##test_check = pd.read_csv(\"day_two_input_test.txt\", header=None, sep =' ', skip_blank_lines=False)\n",
    "\n",
    "choices = {\n",
    "  \"X\": 1,\n",
    "  \"Y\": 2,\n",
    "  \"Z\": 3\n",
    "}\n",
    "scores = {\n",
    "  \"AY\":6,\n",
    "  \"BZ\":6,\n",
    "  \"CX\":6,\n",
    "  \"AX\":3,\n",
    "  \"BY\":3,\n",
    "  \"CZ\":3\n",
    "}\n",
    "part_two = {\n",
    "  \"AX\":\"Z\",\n",
    "  \"BX\":\"X\",\n",
    "  \"CX\":\"Y\",\n",
    "  \"AY\":\"X\",\n",
    "  \"BY\":\"Y\",\n",
    "  \"CY\":\"Z\",\n",
    "  \"AZ\":\"Y\",\n",
    "  \"BZ\":\"Z\",\n",
    "  \"CZ\":\"X\"\n",
    "}\n",
    "\n",
    "def your_score(game_list, scoreforchoice, scoreforresult, alt_rules, use_alt_rules):\n",
    "    game_list.columns = ['elf','you']\n",
    "    game_list['combination'] = game_list['elf'] + game_list['you']\n",
    "    if use_alt_rules == 'yes':\n",
    "        game_list['you'] = game_list['combination'].map(alt_rules)\n",
    "        game_list['combination'] = game_list['elf'] + game_list['you']\n",
    "    game_list['score_result'] = game_list['combination'].map(scoreforresult)\n",
    "    game_list['choice'] = game_list['you'].map(scoreforchoice )\n",
    "    game_list.fillna(0, axis=1, inplace=True)\n",
    "    game_list['total_score'] = game_list['choice'] + game_list['score_result'] \n",
    "    return(sum(game_list['total_score']))\n",
    "\n",
    "your_score(recommended, choices, scores, part_two, 'no')\n",
    "\n",
    "##to test - should be 15 or 12 for alt = yes\n",
    "##your_score(test_check, choices, scores, part_two, 'yes')\n",
    "\n",
    "\n",
    "\n",
    "\n"
   ]
  }
 ],
 "metadata": {
  "kernelspec": {
   "display_name": "Python 3.8.5 ('base')",
   "language": "python",
   "name": "python3"
  },
  "language_info": {
   "codemirror_mode": {
    "name": "ipython",
    "version": 3
   },
   "file_extension": ".py",
   "mimetype": "text/x-python",
   "name": "python",
   "nbconvert_exporter": "python",
   "pygments_lexer": "ipython3",
   "version": "3.8.5"
  },
  "orig_nbformat": 4,
  "vscode": {
   "interpreter": {
    "hash": "ad2bdc8ecc057115af97d19610ffacc2b4e99fae6737bb82f5d7fb13d2f2c186"
   }
  }
 },
 "nbformat": 4,
 "nbformat_minor": 2
}
