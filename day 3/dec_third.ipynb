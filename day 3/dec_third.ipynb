{
 "cells": [
  {
   "cell_type": "code",
   "execution_count": 110,
   "metadata": {},
   "outputs": [
    {
     "data": {
      "text/plain": [
       "(7446, 2646)"
      ]
     },
     "execution_count": 110,
     "metadata": {},
     "output_type": "execute_result"
    }
   ],
   "source": [
    "import pandas as pd\n",
    "import string\n",
    "bag_list = pd.read_csv(\"day_three_input.txt\", header=None, sep =' ', skip_blank_lines=False)\n",
    "\n",
    "##to test \n",
    "##test_check = pd.read_csv(\"day_three_input_test.txt\", header=None, sep =' ', skip_blank_lines=False)\n",
    "\n",
    "def priorities(bags):\n",
    "  bags.columns = ['total']\n",
    "  bags['len'] = bags['total'].str.len()\n",
    "  bags['mid'] = bags['total'].str.len().astype(int)//2\n",
    "  bags['first_section'] = bags.apply(lambda row: row['total'][0:row['mid']] , axis=1)\n",
    "  bags['second_section'] = bags.apply(lambda row: row['total'][row['mid']:row['len']] , axis=1)\n",
    "  bags['chosen_letter'] = pd.DataFrame(list(bags.apply(lambda row: (set(row['first_section']).intersection(row['second_section'])), axis=1)))\n",
    "  elf_teams = pd.DataFrame({'one':bags['total'].iloc[::3].values, 'two':bags['total'].iloc[1::3].values, 'three':bags['total'].iloc[2::3].values,})\n",
    "  elf_teams['chosen_letter'] = pd.DataFrame(list(elf_teams.apply(lambda row: (set(row['one']).intersection(row['two'], row['three'])), axis=1)))\n",
    "  letters = string.ascii_lowercase + string.ascii_uppercase\n",
    "  letter_priotities = dict(zip(letters, range(1,54)))\n",
    "  bags['priorities'] = bags['chosen_letter'].map(letter_priotities)\n",
    "  elf_teams['priorities'] = elf_teams['chosen_letter'].map(letter_priotities)\n",
    "  return (sum(bags['priorities']), sum(elf_teams['priorities']))\n",
    "\n",
    "priorities(bag_list)\n",
    "\n",
    "##to test - should be 157 & 70\n",
    "##priorities(test_check)\n",
    "\n"
   ]
  }
 ],
 "metadata": {
  "kernelspec": {
   "display_name": "Python 3.8.5 ('base')",
   "language": "python",
   "name": "python3"
  },
  "language_info": {
   "codemirror_mode": {
    "name": "ipython",
    "version": 3
   },
   "file_extension": ".py",
   "mimetype": "text/x-python",
   "name": "python",
   "nbconvert_exporter": "python",
   "pygments_lexer": "ipython3",
   "version": "3.8.5"
  },
  "orig_nbformat": 4,
  "vscode": {
   "interpreter": {
    "hash": "ad2bdc8ecc057115af97d19610ffacc2b4e99fae6737bb82f5d7fb13d2f2c186"
   }
  }
 },
 "nbformat": 4,
 "nbformat_minor": 2
}
