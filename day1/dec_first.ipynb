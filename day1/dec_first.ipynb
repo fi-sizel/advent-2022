{
 "cells": [
  {
   "cell_type": "code",
   "execution_count": 3,
   "metadata": {},
   "outputs": [
    {
     "data": {
      "text/plain": [
       "212489.0"
      ]
     },
     "execution_count": 3,
     "metadata": {},
     "output_type": "execute_result"
    }
   ],
   "source": [
    "import pandas as pd\n",
    "calorie_list = pd.read_csv(\"day_one_input.txt\", header=None, skip_blank_lines=False)\n",
    "\n",
    "def which_elf(calories, how_many_elves):\n",
    "    calories.columns = ['calories']\n",
    "    calories['elf'] = (calories['calories'].isna().cumsum() + 1)\n",
    "    elf_calories = calories.groupby(['elf'], as_index=False).sum()\n",
    "    listed_elves = elf_calories.sort_values('calories', ascending=False)\n",
    "    return(listed_elves.head(how_many_elves))\n",
    "\n",
    "top_list = which_elf(calorie_list,3)\n",
    "\n",
    "def sum_calories(top_elves):\n",
    "    return top_elves['calories'].sum()\n",
    "    \n",
    "sum_calories(top_list)"
   ]
  }
 ],
 "metadata": {
  "kernelspec": {
   "display_name": "Python 3.8.5 ('base')",
   "language": "python",
   "name": "python3"
  },
  "language_info": {
   "codemirror_mode": {
    "name": "ipython",
    "version": 3
   },
   "file_extension": ".py",
   "mimetype": "text/x-python",
   "name": "python",
   "nbconvert_exporter": "python",
   "pygments_lexer": "ipython3",
   "version": "3.8.5"
  },
  "orig_nbformat": 4,
  "vscode": {
   "interpreter": {
    "hash": "ad2bdc8ecc057115af97d19610ffacc2b4e99fae6737bb82f5d7fb13d2f2c186"
   }
  }
 },
 "nbformat": 4,
 "nbformat_minor": 2
}
