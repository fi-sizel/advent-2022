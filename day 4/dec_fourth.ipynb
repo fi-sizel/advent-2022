{
 "cells": [
  {
   "cell_type": "code",
   "execution_count": 164,
   "metadata": {},
   "outputs": [
    {
     "data": {
      "text/plain": [
       "(893, 582)"
      ]
     },
     "execution_count": 164,
     "metadata": {},
     "output_type": "execute_result"
    }
   ],
   "source": [
    "import pandas as pd\n",
    "chore_list = pd.read_csv(\"day_four_input.txt\", header=None, sep = ',', skip_blank_lines=False)\n",
    "\n",
    "##to test \n",
    "##test_list = pd.read_csv(\"day_four_input_test.txt\", header=None, sep =',', skip_blank_lines=False)\n",
    "\n",
    "def chores_overlap(chore_list):\n",
    "  chore_list.columns = ['elf_one', 'elf_two']\n",
    "  ranged_areas = pd.DataFrame([[range(int(x.split('-')[0]), int(x.split('-')[1])+1)for x in cols] for cols in zip(chore_list['elf_one'], chore_list['elf_two'])])\n",
    "  ranged_areas.columns = ['elf_one_range', 'elf_two_range']\n",
    "  range_bools_2in1 = pd.DataFrame([set(x).issubset(y) for x,y in zip(ranged_areas['elf_one_range'], ranged_areas['elf_two_range'])])\n",
    "  range_bools_1in2 = pd.DataFrame([set(y).issubset(x) for x,y in zip(ranged_areas['elf_one_range'], ranged_areas['elf_two_range'])])\n",
    "  area_bools_2in1 = pd.DataFrame({'col':[True in(a in set(y) for a, b in zip(x,y)) for x,y in zip(ranged_areas['elf_one_range'], ranged_areas['elf_two_range'])]})\n",
    "  area_bools_1in2 = pd.DataFrame({'col':[True in(b in set(x) for a, b in zip(x,y)) for x,y in zip(ranged_areas['elf_one_range'], ranged_areas['elf_two_range'])]})\n",
    "  intersect_bools_area = pd.concat([area_bools_2in1, area_bools_1in2], axis=1)\n",
    "  intersect_bools_range = pd.concat([range_bools_2in1 , range_bools_1in2], axis=1)\n",
    "  return (sum(intersect_bools_area.any( axis=1)), sum(intersect_bools_range.any( axis=1)))\n",
    "\n",
    "chores_overlap(chore_list)\n",
    "\n",
    "##to test - should be 4 and 2\n",
    "##chores_overlap(test_list)\n"
   ]
  }
 ],
 "metadata": {
  "kernelspec": {
   "display_name": "Python 3.8.5 ('base')",
   "language": "python",
   "name": "python3"
  },
  "language_info": {
   "codemirror_mode": {
    "name": "ipython",
    "version": 3
   },
   "file_extension": ".py",
   "mimetype": "text/x-python",
   "name": "python",
   "nbconvert_exporter": "python",
   "pygments_lexer": "ipython3",
   "version": "3.8.5"
  },
  "orig_nbformat": 4,
  "vscode": {
   "interpreter": {
    "hash": "ad2bdc8ecc057115af97d19610ffacc2b4e99fae6737bb82f5d7fb13d2f2c186"
   }
  }
 },
 "nbformat": 4,
 "nbformat_minor": 2
}
